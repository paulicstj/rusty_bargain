{
 "cells": [
  {
   "cell_type": "markdown",
   "metadata": {},
   "source": [
    "Rusty Bargain is a used car sales service that is developing an app to attract new customers. With this app, you can quickly find out your car's market value. You have access to the history, technical specifications, trim levels, and prices. You need to create a model that determines the market value.\n",
    "\n",
    "Rusty Bargain is interested in:\n",
    "\n",
    "*The quality of the prediction\n",
    "*The speed of the prediction\n",
    "*The time required for training"
   ]
  },
  {
   "cell_type": "markdown",
   "metadata": {},
   "source": [
    "## Data Preparation"
   ]
  },
  {
   "cell_type": "code",
   "execution_count": 2,
   "metadata": {
    "trusted": true
   },
   "outputs": [],
   "source": [
    "import pandas as pd \n",
    "import seaborn as sns\n",
    "import numpy as np\n",
    "import time\n",
    "import matplotlib.pyplot as plt\n",
    "from sklearn.model_selection import train_test_split\n",
    "from sklearn.linear_model import LinearRegression\n",
    "from sklearn.metrics import root_mean_squared_error, r2_score\n",
    "from sklearn.preprocessing import StandardScaler\n",
    "from sklearn.ensemble import RandomForestRegressor\n",
    "from sklearn.linear_model import SGDRegressor\n",
    "import lightgbm as lgb\n",
    "from catboost import CatBoostRegressor"
   ]
  },
  {
   "cell_type": "code",
   "execution_count": 3,
   "metadata": {
    "trusted": true
   },
   "outputs": [
    {
     "name": "stdout",
     "output_type": "stream",
     "text": [
      "<class 'pandas.core.frame.DataFrame'>\n",
      "RangeIndex: 354369 entries, 0 to 354368\n",
      "Data columns (total 16 columns):\n",
      " #   Column             Non-Null Count   Dtype \n",
      "---  ------             --------------   ----- \n",
      " 0   DateCrawled        354369 non-null  object\n",
      " 1   Price              354369 non-null  int64 \n",
      " 2   VehicleType        316879 non-null  object\n",
      " 3   RegistrationYear   354369 non-null  int64 \n",
      " 4   Gearbox            334536 non-null  object\n",
      " 5   Power              354369 non-null  int64 \n",
      " 6   Model              334664 non-null  object\n",
      " 7   Mileage            354369 non-null  int64 \n",
      " 8   RegistrationMonth  354369 non-null  int64 \n",
      " 9   FuelType           321474 non-null  object\n",
      " 10  Brand              354369 non-null  object\n",
      " 11  NotRepaired        283215 non-null  object\n",
      " 12  DateCreated        354369 non-null  object\n",
      " 13  NumberOfPictures   354369 non-null  int64 \n",
      " 14  PostalCode         354369 non-null  int64 \n",
      " 15  LastSeen           354369 non-null  object\n",
      "dtypes: int64(7), object(9)\n",
      "memory usage: 43.3+ MB\n"
     ]
    }
   ],
   "source": [
    "df = pd.read_csv('/Users/pauli/Documents/Data/rusty_bargain/car_data.csv')\n",
    "\n",
    "df.info()"
   ]
  },
  {
   "cell_type": "markdown",
   "metadata": {},
   "source": [
    "The data types are correct. Let's change the column names to make it easier to process the data and write the code."
   ]
  },
  {
   "cell_type": "code",
   "execution_count": 4,
   "metadata": {
    "trusted": true
   },
   "outputs": [],
   "source": [
    "df = df.rename(columns={\n",
    "    'DateCrawled': 'date_crawled', \n",
    "    'Price': 'price', \n",
    "    'VehicleType': 'vehicle_type', \n",
    "    'RegistrationYear': 'reg_year', \n",
    "    'Gearbox': 'gearbox', \n",
    "    'Power': 'power', \n",
    "    'Model': 'model', \n",
    "    'Mileage': 'mileage', \n",
    "    'RegistrationMonth': 'reg_month', \n",
    "    'FuelType': 'fuel_type', \n",
    "    'Brand': 'brand', \n",
    "    'NotRepaired': 'not_repaired', \n",
    "    'DateCreated': 'date_created', \n",
    "    'NumberOfPictures': 'n_pictures', \n",
    "    'PostalCode': 'postal_code', \n",
    "    'LastSeen': 'last_seen'\n",
    "})"
   ]
  },
  {
   "cell_type": "code",
   "execution_count": 5,
   "metadata": {
    "trusted": true
   },
   "outputs": [
    {
     "data": {
      "text/plain": [
       "date_crawled        0\n",
       "price               0\n",
       "vehicle_type    37490\n",
       "reg_year            0\n",
       "gearbox         19833\n",
       "power               0\n",
       "model           19705\n",
       "mileage             0\n",
       "reg_month           0\n",
       "fuel_type       32895\n",
       "brand               0\n",
       "not_repaired    71154\n",
       "date_created        0\n",
       "n_pictures          0\n",
       "postal_code         0\n",
       "last_seen           0\n",
       "dtype: int64"
      ]
     },
     "execution_count": 5,
     "metadata": {},
     "output_type": "execute_result"
    }
   ],
   "source": [
    "df.isna().sum()"
   ]
  },
  {
   "cell_type": "markdown",
   "metadata": {},
   "source": [
    "There is quite a bit of missing data in different columns, let's calculate what percentage of the data would be removed if we got rid of the missing data:"
   ]
  },
  {
   "cell_type": "code",
   "execution_count": 6,
   "metadata": {
    "trusted": true
   },
   "outputs": [
    {
     "data": {
      "text/plain": [
       "0.6936667710776055"
      ]
     },
     "execution_count": 6,
     "metadata": {},
     "output_type": "execute_result"
    }
   ],
   "source": [
    "df_drop = (df.dropna().shape[0])/(df.shape[0])\n",
    "df_drop"
   ]
  },
  {
   "cell_type": "markdown",
   "metadata": {},
   "source": [
    "If we remove missing data, we would eliminate about 30% of the data, which is a large representation of the data. For this reason, we'll fill in the missing data with the most common data from its respective column."
   ]
  },
  {
   "cell_type": "code",
   "execution_count": 7,
   "metadata": {
    "trusted": true
   },
   "outputs": [
    {
     "data": {
      "text/plain": [
       "vehicle_type\n",
       "sedan          91457\n",
       "small          79831\n",
       "wagon          65166\n",
       "bus            28775\n",
       "convertible    20203\n",
       "coupe          16163\n",
       "suv            11996\n",
       "other           3288\n",
       "Name: count, dtype: int64"
      ]
     },
     "execution_count": 7,
     "metadata": {},
     "output_type": "execute_result"
    }
   ],
   "source": [
    "df['vehicle_type'].value_counts()"
   ]
  },
  {
   "cell_type": "code",
   "execution_count": 8,
   "metadata": {
    "trusted": true
   },
   "outputs": [
    {
     "data": {
      "text/plain": [
       "gearbox\n",
       "manual    268251\n",
       "auto       66285\n",
       "Name: count, dtype: int64"
      ]
     },
     "execution_count": 8,
     "metadata": {},
     "output_type": "execute_result"
    }
   ],
   "source": [
    "df['gearbox'].value_counts()"
   ]
  },
  {
   "cell_type": "code",
   "execution_count": 9,
   "metadata": {
    "trusted": true
   },
   "outputs": [
    {
     "data": {
      "text/plain": [
       "model\n",
       "golf                  29232\n",
       "other                 24421\n",
       "3er                   19761\n",
       "polo                  13066\n",
       "corsa                 12570\n",
       "                      ...  \n",
       "i3                        8\n",
       "serie_3                   4\n",
       "rangerover                4\n",
       "range_rover_evoque        2\n",
       "serie_1                   2\n",
       "Name: count, Length: 250, dtype: int64"
      ]
     },
     "execution_count": 9,
     "metadata": {},
     "output_type": "execute_result"
    }
   ],
   "source": [
    "df['model'].value_counts()"
   ]
  },
  {
   "cell_type": "markdown",
   "metadata": {},
   "source": [
    "In the case of model, it will be replaced with other, since this covers many models."
   ]
  },
  {
   "cell_type": "code",
   "execution_count": 10,
   "metadata": {
    "trusted": true
   },
   "outputs": [
    {
     "data": {
      "text/plain": [
       "fuel_type\n",
       "petrol      216352\n",
       "gasoline     98720\n",
       "lpg           5310\n",
       "cng            565\n",
       "hybrid         233\n",
       "other          204\n",
       "electric        90\n",
       "Name: count, dtype: int64"
      ]
     },
     "execution_count": 10,
     "metadata": {},
     "output_type": "execute_result"
    }
   ],
   "source": [
    "df['fuel_type'].value_counts()"
   ]
  },
  {
   "cell_type": "code",
   "execution_count": 11,
   "metadata": {
    "trusted": true
   },
   "outputs": [
    {
     "data": {
      "text/plain": [
       "not_repaired\n",
       "no     247161\n",
       "yes     36054\n",
       "Name: count, dtype: int64"
      ]
     },
     "execution_count": 11,
     "metadata": {},
     "output_type": "execute_result"
    }
   ],
   "source": [
    "df['not_repaired'].value_counts()"
   ]
  },
  {
   "cell_type": "code",
   "execution_count": 12,
   "metadata": {
    "trusted": true
   },
   "outputs": [],
   "source": [
    "#Fill out values\n",
    "\n",
    "df['vehicle_type'] = df['vehicle_type'].fillna('sedan')\n",
    "df['gearbox']= df['gearbox'].fillna('manual')\n",
    "df['model']= df['model'].fillna('model')\n",
    "df['fuel_type']= df['fuel_type'].fillna('petrol')\n",
    "df['not_repaired']= df['not_repaired'].fillna('no')"
   ]
  },
  {
   "cell_type": "code",
   "execution_count": 13,
   "metadata": {
    "trusted": true
   },
   "outputs": [
    {
     "data": {
      "text/plain": [
       "date_crawled    0\n",
       "price           0\n",
       "vehicle_type    0\n",
       "reg_year        0\n",
       "gearbox         0\n",
       "power           0\n",
       "model           0\n",
       "mileage         0\n",
       "reg_month       0\n",
       "fuel_type       0\n",
       "brand           0\n",
       "not_repaired    0\n",
       "date_created    0\n",
       "n_pictures      0\n",
       "postal_code     0\n",
       "last_seen       0\n",
       "dtype: int64"
      ]
     },
     "execution_count": 13,
     "metadata": {},
     "output_type": "execute_result"
    }
   ],
   "source": [
    "#Check that there are no missing values\n",
    "\n",
    "df.isna().sum()"
   ]
  },
  {
   "cell_type": "markdown",
   "metadata": {},
   "source": [
    "We're going to remove the columns that aren't necessary, since they don't affect the price, so the model has less data to process."
   ]
  },
  {
   "cell_type": "code",
   "execution_count": 14,
   "metadata": {
    "trusted": true
   },
   "outputs": [
    {
     "data": {
      "text/html": [
       "<div>\n",
       "<style scoped>\n",
       "    .dataframe tbody tr th:only-of-type {\n",
       "        vertical-align: middle;\n",
       "    }\n",
       "\n",
       "    .dataframe tbody tr th {\n",
       "        vertical-align: top;\n",
       "    }\n",
       "\n",
       "    .dataframe thead th {\n",
       "        text-align: right;\n",
       "    }\n",
       "</style>\n",
       "<table border=\"1\" class=\"dataframe\">\n",
       "  <thead>\n",
       "    <tr style=\"text-align: right;\">\n",
       "      <th></th>\n",
       "      <th>price</th>\n",
       "      <th>vehicle_type</th>\n",
       "      <th>reg_year</th>\n",
       "      <th>gearbox</th>\n",
       "      <th>power</th>\n",
       "      <th>model</th>\n",
       "      <th>mileage</th>\n",
       "      <th>reg_month</th>\n",
       "      <th>fuel_type</th>\n",
       "      <th>brand</th>\n",
       "      <th>not_repaired</th>\n",
       "    </tr>\n",
       "  </thead>\n",
       "  <tbody>\n",
       "    <tr>\n",
       "      <th>0</th>\n",
       "      <td>480</td>\n",
       "      <td>sedan</td>\n",
       "      <td>1993</td>\n",
       "      <td>manual</td>\n",
       "      <td>0</td>\n",
       "      <td>golf</td>\n",
       "      <td>150000</td>\n",
       "      <td>0</td>\n",
       "      <td>petrol</td>\n",
       "      <td>volkswagen</td>\n",
       "      <td>no</td>\n",
       "    </tr>\n",
       "    <tr>\n",
       "      <th>1</th>\n",
       "      <td>18300</td>\n",
       "      <td>coupe</td>\n",
       "      <td>2011</td>\n",
       "      <td>manual</td>\n",
       "      <td>190</td>\n",
       "      <td>model</td>\n",
       "      <td>125000</td>\n",
       "      <td>5</td>\n",
       "      <td>gasoline</td>\n",
       "      <td>audi</td>\n",
       "      <td>yes</td>\n",
       "    </tr>\n",
       "    <tr>\n",
       "      <th>2</th>\n",
       "      <td>9800</td>\n",
       "      <td>suv</td>\n",
       "      <td>2004</td>\n",
       "      <td>auto</td>\n",
       "      <td>163</td>\n",
       "      <td>grand</td>\n",
       "      <td>125000</td>\n",
       "      <td>8</td>\n",
       "      <td>gasoline</td>\n",
       "      <td>jeep</td>\n",
       "      <td>no</td>\n",
       "    </tr>\n",
       "    <tr>\n",
       "      <th>3</th>\n",
       "      <td>1500</td>\n",
       "      <td>small</td>\n",
       "      <td>2001</td>\n",
       "      <td>manual</td>\n",
       "      <td>75</td>\n",
       "      <td>golf</td>\n",
       "      <td>150000</td>\n",
       "      <td>6</td>\n",
       "      <td>petrol</td>\n",
       "      <td>volkswagen</td>\n",
       "      <td>no</td>\n",
       "    </tr>\n",
       "    <tr>\n",
       "      <th>4</th>\n",
       "      <td>3600</td>\n",
       "      <td>small</td>\n",
       "      <td>2008</td>\n",
       "      <td>manual</td>\n",
       "      <td>69</td>\n",
       "      <td>fabia</td>\n",
       "      <td>90000</td>\n",
       "      <td>7</td>\n",
       "      <td>gasoline</td>\n",
       "      <td>skoda</td>\n",
       "      <td>no</td>\n",
       "    </tr>\n",
       "  </tbody>\n",
       "</table>\n",
       "</div>"
      ],
      "text/plain": [
       "   price vehicle_type  reg_year gearbox  power  model  mileage  reg_month  \\\n",
       "0    480        sedan      1993  manual      0   golf   150000          0   \n",
       "1  18300        coupe      2011  manual    190  model   125000          5   \n",
       "2   9800          suv      2004    auto    163  grand   125000          8   \n",
       "3   1500        small      2001  manual     75   golf   150000          6   \n",
       "4   3600        small      2008  manual     69  fabia    90000          7   \n",
       "\n",
       "  fuel_type       brand not_repaired  \n",
       "0    petrol  volkswagen           no  \n",
       "1  gasoline        audi          yes  \n",
       "2  gasoline        jeep           no  \n",
       "3    petrol  volkswagen           no  \n",
       "4  gasoline       skoda           no  "
      ]
     },
     "execution_count": 14,
     "metadata": {},
     "output_type": "execute_result"
    }
   ],
   "source": [
    "cols_to_drop = ['date_crawled', 'date_created', 'last_seen', 'postal_code', 'n_pictures']\n",
    "\n",
    "df = df.drop(columns=cols_to_drop)\n",
    "\n",
    "df.head()"
   ]
  },
  {
   "cell_type": "markdown",
   "metadata": {},
   "source": [
    "Now, let's investigate whether the price has outliers that could affect the model."
   ]
  },
  {
   "cell_type": "code",
   "execution_count": 15,
   "metadata": {
    "trusted": true
   },
   "outputs": [
    {
     "data": {
      "image/png": "[encoded data removed]",
      "text/plain": [
       "<Figure size 640x480 with 1 Axes>"
      ]
     },
     "metadata": {},
     "output_type": "display_data"
    }
   ],
   "source": [
    "sns.boxplot(x=df['price'])\n",
    "plt.show()"
   ]
  },
  {
   "cell_type": "code",
   "execution_count": 16,
   "metadata": {
    "trusted": true
   },
   "outputs": [],
   "source": [
    "#Delete outliers \n",
    "\n",
    "Q1 = df['price'].quantile(0.25)\n",
    "Q3 = df['price'].quantile(0.75)\n",
    "IQR = Q3 - Q1\n",
    "\n",
    "lower_bound = Q1 - 1.5 * IQR\n",
    "upper_bound = Q3 + 1.5 * IQR\n",
    "\n",
    "df = df[(df['price'] >= lower_bound) & (df['price'] <= upper_bound)]"
   ]
  },
  {
   "cell_type": "markdown",
   "metadata": {},
   "source": [
    "Now, we perform a correlation analysis, to find out what influences the price."
   ]
  },
  {
   "cell_type": "code",
   "execution_count": 17,
   "metadata": {
    "trusted": true
   },
   "outputs": [
    {
     "ename": "ValueError",
     "evalue": "could not convert string to float: 'sedan'",
     "output_type": "error",
     "traceback": [
      "\u001b[0;31m---------------------------------------------------------------------------\u001b[0m",
      "\u001b[0;31mValueError\u001b[0m                                Traceback (most recent call last)",
      "Cell \u001b[0;32mIn[17], line 1\u001b[0m\n\u001b[0;32m----> 1\u001b[0m corr_matrix \u001b[38;5;241m=\u001b[39m df\u001b[38;5;241m.\u001b[39mcorr()\n\u001b[1;32m      3\u001b[0m plt\u001b[38;5;241m.\u001b[39mfigure(figsize\u001b[38;5;241m=\u001b[39m(\u001b[38;5;241m10\u001b[39m,\u001b[38;5;241m6\u001b[39m))\n\u001b[1;32m      4\u001b[0m sns\u001b[38;5;241m.\u001b[39mheatmap(corr_matrix, annot\u001b[38;5;241m=\u001b[39m\u001b[38;5;28;01mTrue\u001b[39;00m, cmap\u001b[38;5;241m=\u001b[39m\u001b[38;5;124m\"\u001b[39m\u001b[38;5;124mcoolwarm\u001b[39m\u001b[38;5;124m\"\u001b[39m, fmt\u001b[38;5;241m=\u001b[39m\u001b[38;5;124m\"\u001b[39m\u001b[38;5;124m.2f\u001b[39m\u001b[38;5;124m\"\u001b[39m)\n",
      "File \u001b[0;32m/opt/anaconda3/lib/python3.12/site-packages/pandas/core/frame.py:11049\u001b[0m, in \u001b[0;36mDataFrame.corr\u001b[0;34m(self, method, min_periods, numeric_only)\u001b[0m\n\u001b[1;32m  11047\u001b[0m cols \u001b[38;5;241m=\u001b[39m data\u001b[38;5;241m.\u001b[39mcolumns\n\u001b[1;32m  11048\u001b[0m idx \u001b[38;5;241m=\u001b[39m cols\u001b[38;5;241m.\u001b[39mcopy()\n\u001b[0;32m> 11049\u001b[0m mat \u001b[38;5;241m=\u001b[39m data\u001b[38;5;241m.\u001b[39mto_numpy(dtype\u001b[38;5;241m=\u001b[39m\u001b[38;5;28mfloat\u001b[39m, na_value\u001b[38;5;241m=\u001b[39mnp\u001b[38;5;241m.\u001b[39mnan, copy\u001b[38;5;241m=\u001b[39m\u001b[38;5;28;01mFalse\u001b[39;00m)\n\u001b[1;32m  11051\u001b[0m \u001b[38;5;28;01mif\u001b[39;00m method \u001b[38;5;241m==\u001b[39m \u001b[38;5;124m\"\u001b[39m\u001b[38;5;124mpearson\u001b[39m\u001b[38;5;124m\"\u001b[39m:\n\u001b[1;32m  11052\u001b[0m     correl \u001b[38;5;241m=\u001b[39m libalgos\u001b[38;5;241m.\u001b[39mnancorr(mat, minp\u001b[38;5;241m=\u001b[39mmin_periods)\n",
      "File \u001b[0;32m/opt/anaconda3/lib/python3.12/site-packages/pandas/core/frame.py:1993\u001b[0m, in \u001b[0;36mDataFrame.to_numpy\u001b[0;34m(self, dtype, copy, na_value)\u001b[0m\n\u001b[1;32m   1991\u001b[0m \u001b[38;5;28;01mif\u001b[39;00m dtype \u001b[38;5;129;01mis\u001b[39;00m \u001b[38;5;129;01mnot\u001b[39;00m \u001b[38;5;28;01mNone\u001b[39;00m:\n\u001b[1;32m   1992\u001b[0m     dtype \u001b[38;5;241m=\u001b[39m np\u001b[38;5;241m.\u001b[39mdtype(dtype)\n\u001b[0;32m-> 1993\u001b[0m result \u001b[38;5;241m=\u001b[39m \u001b[38;5;28mself\u001b[39m\u001b[38;5;241m.\u001b[39m_mgr\u001b[38;5;241m.\u001b[39mas_array(dtype\u001b[38;5;241m=\u001b[39mdtype, copy\u001b[38;5;241m=\u001b[39mcopy, na_value\u001b[38;5;241m=\u001b[39mna_value)\n\u001b[1;32m   1994\u001b[0m \u001b[38;5;28;01mif\u001b[39;00m result\u001b[38;5;241m.\u001b[39mdtype \u001b[38;5;129;01mis\u001b[39;00m \u001b[38;5;129;01mnot\u001b[39;00m dtype:\n\u001b[1;32m   1995\u001b[0m     result \u001b[38;5;241m=\u001b[39m np\u001b[38;5;241m.\u001b[39masarray(result, dtype\u001b[38;5;241m=\u001b[39mdtype)\n",
      "File \u001b[0;32m/opt/anaconda3/lib/python3.12/site-packages/pandas/core/internals/managers.py:1694\u001b[0m, in \u001b[0;36mBlockManager.as_array\u001b[0;34m(self, dtype, copy, na_value)\u001b[0m\n\u001b[1;32m   1692\u001b[0m         arr\u001b[38;5;241m.\u001b[39mflags\u001b[38;5;241m.\u001b[39mwriteable \u001b[38;5;241m=\u001b[39m \u001b[38;5;28;01mFalse\u001b[39;00m\n\u001b[1;32m   1693\u001b[0m \u001b[38;5;28;01melse\u001b[39;00m:\n\u001b[0;32m-> 1694\u001b[0m     arr \u001b[38;5;241m=\u001b[39m \u001b[38;5;28mself\u001b[39m\u001b[38;5;241m.\u001b[39m_interleave(dtype\u001b[38;5;241m=\u001b[39mdtype, na_value\u001b[38;5;241m=\u001b[39mna_value)\n\u001b[1;32m   1695\u001b[0m     \u001b[38;5;66;03m# The underlying data was copied within _interleave, so no need\u001b[39;00m\n\u001b[1;32m   1696\u001b[0m     \u001b[38;5;66;03m# to further copy if copy=True or setting na_value\u001b[39;00m\n\u001b[1;32m   1698\u001b[0m \u001b[38;5;28;01mif\u001b[39;00m na_value \u001b[38;5;129;01mis\u001b[39;00m lib\u001b[38;5;241m.\u001b[39mno_default:\n",
      "File \u001b[0;32m/opt/anaconda3/lib/python3.12/site-packages/pandas/core/internals/managers.py:1753\u001b[0m, in \u001b[0;36mBlockManager._interleave\u001b[0;34m(self, dtype, na_value)\u001b[0m\n\u001b[1;32m   1751\u001b[0m     \u001b[38;5;28;01melse\u001b[39;00m:\n\u001b[1;32m   1752\u001b[0m         arr \u001b[38;5;241m=\u001b[39m blk\u001b[38;5;241m.\u001b[39mget_values(dtype)\n\u001b[0;32m-> 1753\u001b[0m     result[rl\u001b[38;5;241m.\u001b[39mindexer] \u001b[38;5;241m=\u001b[39m arr\n\u001b[1;32m   1754\u001b[0m     itemmask[rl\u001b[38;5;241m.\u001b[39mindexer] \u001b[38;5;241m=\u001b[39m \u001b[38;5;241m1\u001b[39m\n\u001b[1;32m   1756\u001b[0m \u001b[38;5;28;01mif\u001b[39;00m \u001b[38;5;129;01mnot\u001b[39;00m itemmask\u001b[38;5;241m.\u001b[39mall():\n",
      "\u001b[0;31mValueError\u001b[0m: could not convert string to float: 'sedan'"
     ]
    }
   ],
   "source": [
    "corr_matrix = df.corr()\n",
    "\n",
    "plt.figure(figsize=(10,6))\n",
    "sns.heatmap(corr_matrix, annot=True, cmap=\"coolwarm\", fmt=\".2f\")\n",
    "plt.show()"
   ]
  },
  {
   "cell_type": "markdown",
   "metadata": {},
   "source": [
    "We observed that price has a negative correlation with mileage (-0.27), meaning that higher mileage indicates a lower price. Likewise, it has a low positive correlation with power (0.14), indicating that cars with more power tend to have higher prices, but the relationship is not very strong.\n",
    "The remaining characteristics do not show a significant correlation.\n",
    "After this analysis, it was decided to eliminate the month of registration since it has no impact on price."
   ]
  },
  {
   "cell_type": "code",
   "execution_count": null,
   "metadata": {
    "trusted": true
   },
   "outputs": [
    {
     "data": {
      "text/html": [
       "<div>\n",
       "<style scoped>\n",
       "    .dataframe tbody tr th:only-of-type {\n",
       "        vertical-align: middle;\n",
       "    }\n",
       "\n",
       "    .dataframe tbody tr th {\n",
       "        vertical-align: top;\n",
       "    }\n",
       "\n",
       "    .dataframe thead th {\n",
       "        text-align: right;\n",
       "    }\n",
       "</style>\n",
       "<table border=\"1\" class=\"dataframe\">\n",
       "  <thead>\n",
       "    <tr style=\"text-align: right;\">\n",
       "      <th></th>\n",
       "      <th>price</th>\n",
       "      <th>vehicle_type</th>\n",
       "      <th>reg_year</th>\n",
       "      <th>gearbox</th>\n",
       "      <th>power</th>\n",
       "      <th>model</th>\n",
       "      <th>mileage</th>\n",
       "      <th>fuel_type</th>\n",
       "      <th>brand</th>\n",
       "      <th>not_repaired</th>\n",
       "    </tr>\n",
       "  </thead>\n",
       "  <tbody>\n",
       "    <tr>\n",
       "      <th>0</th>\n",
       "      <td>480</td>\n",
       "      <td>sedan</td>\n",
       "      <td>1993</td>\n",
       "      <td>manual</td>\n",
       "      <td>0</td>\n",
       "      <td>golf</td>\n",
       "      <td>150000</td>\n",
       "      <td>petrol</td>\n",
       "      <td>volkswagen</td>\n",
       "      <td>no</td>\n",
       "    </tr>\n",
       "    <tr>\n",
       "      <th>2</th>\n",
       "      <td>9800</td>\n",
       "      <td>suv</td>\n",
       "      <td>2004</td>\n",
       "      <td>auto</td>\n",
       "      <td>163</td>\n",
       "      <td>grand</td>\n",
       "      <td>125000</td>\n",
       "      <td>gasoline</td>\n",
       "      <td>jeep</td>\n",
       "      <td>no</td>\n",
       "    </tr>\n",
       "    <tr>\n",
       "      <th>3</th>\n",
       "      <td>1500</td>\n",
       "      <td>small</td>\n",
       "      <td>2001</td>\n",
       "      <td>manual</td>\n",
       "      <td>75</td>\n",
       "      <td>golf</td>\n",
       "      <td>150000</td>\n",
       "      <td>petrol</td>\n",
       "      <td>volkswagen</td>\n",
       "      <td>no</td>\n",
       "    </tr>\n",
       "    <tr>\n",
       "      <th>4</th>\n",
       "      <td>3600</td>\n",
       "      <td>small</td>\n",
       "      <td>2008</td>\n",
       "      <td>manual</td>\n",
       "      <td>69</td>\n",
       "      <td>fabia</td>\n",
       "      <td>90000</td>\n",
       "      <td>gasoline</td>\n",
       "      <td>skoda</td>\n",
       "      <td>no</td>\n",
       "    </tr>\n",
       "    <tr>\n",
       "      <th>5</th>\n",
       "      <td>650</td>\n",
       "      <td>sedan</td>\n",
       "      <td>1995</td>\n",
       "      <td>manual</td>\n",
       "      <td>102</td>\n",
       "      <td>3er</td>\n",
       "      <td>150000</td>\n",
       "      <td>petrol</td>\n",
       "      <td>bmw</td>\n",
       "      <td>yes</td>\n",
       "    </tr>\n",
       "  </tbody>\n",
       "</table>\n",
       "</div>"
      ],
      "text/plain": [
       "   price vehicle_type  reg_year gearbox  power  model  mileage fuel_type  \\\n",
       "0    480        sedan      1993  manual      0   golf   150000    petrol   \n",
       "2   9800          suv      2004    auto    163  grand   125000  gasoline   \n",
       "3   1500        small      2001  manual     75   golf   150000    petrol   \n",
       "4   3600        small      2008  manual     69  fabia    90000  gasoline   \n",
       "5    650        sedan      1995  manual    102    3er   150000    petrol   \n",
       "\n",
       "        brand not_repaired  \n",
       "0  volkswagen           no  \n",
       "2        jeep           no  \n",
       "3  volkswagen           no  \n",
       "4       skoda           no  \n",
       "5         bmw          yes  "
      ]
     },
     "execution_count": 17,
     "metadata": {},
     "output_type": "execute_result"
    }
   ],
   "source": [
    "cols_to_drop = ['reg_month']\n",
    "\n",
    "df = df.drop(columns=cols_to_drop)\n",
    "\n",
    "df.head()"
   ]
  },
  {
   "cell_type": "markdown",
   "metadata": {},
   "source": [
    "**Data Transformation**"
   ]
  },
  {
   "cell_type": "code",
   "execution_count": null,
   "metadata": {
    "trusted": true
   },
   "outputs": [],
   "source": [
    "# Coding of categorical variables\n",
    "\n",
    "df = pd.get_dummies(df, columns=['vehicle_type', 'model', 'brand', 'fuel_type', 'gearbox', 'not_repaired'], drop_first=True)"
   ]
  },
  {
   "cell_type": "markdown",
   "metadata": {},
   "source": [
    "## Model Training"
   ]
  },
  {
   "cell_type": "markdown",
   "metadata": {},
   "source": [
    "Ideally, your project should have linear regression for sanity testing, a tree-based algorithm with hyperparameter tuning (preferably random forest), LightGBM with hyperparameter tuning (test a pair of ensembles), and CatBoost and XGBoost with hyperparameter tuning (optional)."
   ]
  },
  {
   "cell_type": "markdown",
   "metadata": {},
   "source": [
    "### First, let's run a linear regression to perform a sanity test on the model."
   ]
  },
  {
   "cell_type": "code",
   "execution_count": null,
   "metadata": {
    "trusted": true
   },
   "outputs": [],
   "source": [
    "#Standardize data\n",
    "\n",
    "scaler = StandardScaler()\n",
    "df[['mileage', 'power', 'reg_year']] = scaler.fit_transform(df[['mileage', 'power', 'reg_year']])"
   ]
  },
  {
   "cell_type": "code",
   "execution_count": null,
   "metadata": {
    "trusted": true
   },
   "outputs": [],
   "source": [
    "X= df.drop(['price'], axis=1)\n",
    "y= df['price']\n",
    "\n",
    "\n",
    "X_train, X_test, y_train, y_test = train_test_split(X, y, test_size=0.2, random_state=15)"
   ]
  },
  {
   "cell_type": "code",
   "execution_count": null,
   "metadata": {
    "trusted": true
   },
   "outputs": [
    {
     "name": "stdout",
     "output_type": "stream",
     "text": [
      "Error cuadrático medio (RMSE): 2622.095823469635\n",
      "Coeficiente de determinación (R2): 0.4289882736646342\n",
      "Tiempo de entrenamiento: 9.6999 segundos\n",
      "Tiempo de predicción: 0.1088 segundos\n"
     ]
    }
   ],
   "source": [
    "model = LinearRegression()\n",
    "start_time = time.time()\n",
    "model.fit(X_train, y_train)\n",
    "\n",
    "pred_start_time= time.time()\n",
    "y_pred = model.predict(X_test)\n",
    "train_time = time.time() - start_time\n",
    "pred_time= time.time()- pred_start_time\n",
    "\n",
    "rmse = np.sqrt(root_mean_squared_error(y_test, y_pred))\n",
    "r2 = r2_score(y_test, y_pred)\n",
    "\n",
    "print(f'RMSE: {rmse}')\n",
    "print(f'R2: {r2}')\n",
    "print(f'Training time: {train_time:.4f} segundos')\n",
    "print(f'Prediction time: {pred_time:.4f} segundos')"
   ]
  },
  {
   "cell_type": "markdown",
   "metadata": {},
   "source": [
    "### Random Forest.\n"
   ]
  },
  {
   "cell_type": "code",
   "execution_count": null,
   "metadata": {
    "trusted": true
   },
   "outputs": [
    {
     "name": "stdout",
     "output_type": "stream",
     "text": [
      "Error cuadrático medio (RMSE): 1465.5752112631915\n",
      "Coeficiente de determinación (R2): 0.821612618371888\n",
      "Tiempo de entrenamiento: 314.3150 segundos\n",
      "Tiempo de predicción: 2.4902 segundos\n"
     ]
    }
   ],
   "source": [
    "rf_model = RandomForestRegressor(n_estimators=100, random_state=15, n_jobs=-1)\n",
    "\n",
    "start_time = time.time()\n",
    "rf_model.fit(X_train, y_train)\n",
    "\n",
    "pred_start_time= time.time()\n",
    "y_pred = rf_model.predict(X_test)\n",
    "train_time = time.time() - start_time\n",
    "pred_time= time.time()- pred_start_time\n",
    "\n",
    "\n",
    "rmse = np.sqrt(root_mean_squared_error(y_test, y_pred))\n",
    "r2 = r2_score(y_test, y_pred)\n",
    "\n",
    "print(f'RMSE: {rmse}')\n",
    "print(f'R2: {r2}')\n",
    "print(f'Training time: {train_time:.4f} segundos')\n",
    "print(f'Prediction time: {pred_time:.4f} segundos')\n"
   ]
  },
  {
   "cell_type": "markdown",
   "metadata": {},
   "source": [
    "It has the lowest error so far, indicating that the model makes good predictions, however the runtime is extremely high, making it inefficient."
   ]
  },
  {
   "cell_type": "markdown",
   "metadata": {},
   "source": [
    "### Linear regression with stochastic gradient descent\n"
   ]
  },
  {
   "cell_type": "code",
   "execution_count": null,
   "metadata": {
    "trusted": true
   },
   "outputs": [],
   "source": [
    "class SGDLinearRegression:\n",
    "    def __init__(self, step_size, epochs, batch_size, reg_weight):\n",
    "        self.step_size = step_size\n",
    "        self.epochs = epochs\n",
    "        self.batch_size = batch_size\n",
    "        self.reg_weight = reg_weight\n",
    "\n",
    "    def fit(self, X_train, y_train):\n",
    "        X = np.concatenate(\n",
    "            (np.ones((y_train.shape[0], 1)), X_train), axis=1\n",
    "        )\n",
    "        y = y_train\n",
    "        w = np.zeros(X.shape[1]).astype('float64')\n",
    "        \n",
    "        for _ in range(self.epochs):\n",
    "            batches_count = X.shape[0] // self.batch_size\n",
    "            for i in range(batches_count):\n",
    "                begin = i * self.batch_size\n",
    "                end = (i + 1) * self.batch_size\n",
    "                X_batch = X[begin:end, :]\n",
    "                y_batch = y[begin:end]\n",
    "                \n",
    "                gradient = (2 * X_batch.T.dot(X_batch.dot(w) - y_batch)/ X_batch.shape[0]).astype('float64')\n",
    "                \n",
    "                reg = 2 * w.copy()\n",
    "                reg[0] = 0\n",
    "                \n",
    "                gradient += self.reg_weight * reg\n",
    "                \n",
    "                w -= self.step_size*gradient\n",
    "\n",
    "        self.w = w[1:]\n",
    "        self.w0 = w[0]\n",
    "\n",
    "    def predict(self, X_test):\n",
    "        return X_test.dot(self.w) + self.w0"
   ]
  },
  {
   "cell_type": "code",
   "execution_count": null,
   "metadata": {
    "trusted": true
   },
   "outputs": [
    {
     "name": "stdout",
     "output_type": "stream",
     "text": [
      " Coeficiente de determinación (R2): 0.4093.\n",
      " Error cuadrático medio (RMSE): 2666.913041416653.\n",
      "Tiempo de entrenamiento:33.25821852684021 segundos.\n",
      "Tiempo de predicción: 0.0986 segundos\n"
     ]
    }
   ],
   "source": [
    "#Entrenar el modelo \n",
    "\n",
    "model = SGDLinearRegression(0.01, 10, 100, 0)\n",
    "start_time = time.time()\n",
    "model.fit(X_train, y_train)\n",
    "pred_start_time= time.time()\n",
    "pred_test = model.predict(X_test)\n",
    "train_time = (time.time()-start_time)\n",
    "pred_time= time.time()- pred_start_time\n",
    "mse = root_mean_squared_error(pred_test, y_test)\n",
    "rmse = np.sqrt(mse)\n",
    "\n",
    "print(f' R2: {r2_score(y_test, pred_test).round(4)}.')\n",
    "print(f' RMSE: {rmse}.')\n",
    "print(f'Training Time:{train_time} segundos.')\n",
    "print(f'Prediction time: {pred_time:.4f} segundos')"
   ]
  },
  {
   "cell_type": "markdown",
   "metadata": {},
   "source": [
    "The R2 in this model indicates that it only explains 40.93% of the price variability. This is significantly lower than other models, suggesting low predictive power.\n",
    "The error is quite high."
   ]
  },
  {
   "cell_type": "markdown",
   "metadata": {},
   "source": [
    "### Training with LightGBM"
   ]
  },
  {
   "cell_type": "code",
   "execution_count": null,
   "metadata": {
    "trusted": true
   },
   "outputs": [
    {
     "name": "stdout",
     "output_type": "stream",
     "text": [
      "Error cuadrático medio (RMSE): 1544.0446781755165\n",
      "Coeficiente de determinación (R2): 0.8019988853255258\n",
      "Tiempo de entrenamiento:5.0067315101623535 segundos.\n",
      "Tiempo de predicción: 0.5072 segundos\n"
     ]
    }
   ],
   "source": [
    "params = {\n",
    "    'objective': 'regression',\n",
    "    'metric': 'rmse',\n",
    "    'boosting_type': 'gbdt',\n",
    "    'learning_rate': 0.1,\n",
    "    'num_leaves': 31,\n",
    "    'verbose': -1\n",
    "}\n",
    "\n",
    "# Create training dataset\n",
    "train_data = lgb.Dataset(X_train, label=y_train)\n",
    "\n",
    "start_time = time.time()\n",
    "model = lgb.train(params, train_data, num_boost_round=100)\n",
    "\n",
    "\n",
    "pred_start_time= time.time()\n",
    "y_pred = model.predict(X_test)\n",
    "\n",
    "train_time = time.time() - start_time\n",
    "pred_time= time.time()- pred_start_time\n",
    "\n",
    "rmse = np.sqrt(root_mean_squared_error(y_test, y_pred))\n",
    "r2 = r2_score(y_test, y_pred)\n",
    "\n",
    "\n",
    "print(f'RMSE: {rmse}')\n",
    "print(f'R2: {r2}')\n",
    "print(f'Train time:{train_time} segundos.')\n",
    "print(f'Prediction time: {pred_time:.4f} segundos')\n"
   ]
  },
  {
   "cell_type": "code",
   "execution_count": null,
   "metadata": {
    "trusted": true
   },
   "outputs": [
    {
     "name": "stdout",
     "output_type": "stream",
     "text": [
      "Entrenando modelo LightGBM con conjunto de hiperparámetros 1\n",
      "LightGBM 1 - Error cuadrático medio (RMSE): 1582.3616587925917\n",
      "LightGBM 1 - Coeficiente de determinación (R2): 0.7920497666534168\n",
      "LightGBM 1 - Tiempo de entrenamiento: 5.5947 segundos\n",
      "Tiempo de predicción: 0.5905 segundos\n",
      "Entrenando modelo LightGBM con conjunto de hiperparámetros 2\n",
      "LightGBM 2 - Error cuadrático medio (RMSE): 1539.5978392788581\n",
      "LightGBM 2 - Coeficiente de determinación (R2): 0.8031377269454439\n",
      "LightGBM 2 - Tiempo de entrenamiento: 4.1865 segundos\n",
      "Tiempo de predicción: 0.4075 segundos\n"
     ]
    }
   ],
   "source": [
    "# Configure and train the LightGBM model with two additional sets of hyperparameters\n",
    "params_1 = {\n",
    "    'objective': 'regression',\n",
    "    'metric': 'rmse',\n",
    "    'boosting_type': 'gbdt',\n",
    "    'learning_rate': 0.05,\n",
    "    'num_leaves': 40,\n",
    "    'verbose': -1\n",
    "}\n",
    "\n",
    "params_2 = {\n",
    "    'objective': 'regression',\n",
    "    'metric': 'rmse',\n",
    "    'boosting_type': 'gbdt',\n",
    "    'learning_rate': 0.2,\n",
    "    'num_leaves': 20,\n",
    "    'verbose': -1\n",
    "}\n",
    "\n",
    "for i, params in enumerate([params_1, params_2], 1):\n",
    "    print(f'Training LightGBM with hyperparameters {i}')\n",
    "    train_data = lgb.Dataset(X_train, label=y_train)\n",
    "    start_time = time.time()\n",
    "    model = lgb.train(params, train_data, num_boost_round=100)\n",
    "    \n",
    "    pred_start_time= time.time()\n",
    "    y_pred = model.predict(X_test)\n",
    "    pred_time= time.time()- pred_start_time\n",
    "    train_time = time.time() - start_time\n",
    "    rmse = np.sqrt(root_mean_squared_error(y_test, y_pred))\n",
    "    r2 = r2_score(y_test, y_pred)\n",
    "    \n",
    "    print(f'LightGBM {i} - RMSE: {rmse}')\n",
    "    print(f'LightGBM {i} - R2: {r2}')\n",
    "    print(f'LightGBM {i} - Train time: {train_time:.4f} secs')\n",
    "    print(f'Prediction time: {pred_time:.4f} secs')"
   ]
  },
  {
   "cell_type": "markdown",
   "metadata": {},
   "source": [
    "The original parameter set strikes a good balance between accuracy and training time. The second set has worse accuracy and takes longer to train, so it's not the best option. The third option has the lowest RMSE, the best R2, and the shortest training time, so we chose these hyperparameters to test the model.\n"
   ]
  },
  {
   "cell_type": "markdown",
   "metadata": {},
   "source": [
    "## Model Analysis "
   ]
  },
  {
   "cell_type": "code",
   "execution_count": null,
   "metadata": {
    "trusted": true
   },
   "outputs": [
    {
     "name": "stdout",
     "output_type": "stream",
     "text": [
      "LightGBM - Error cuadrático medio en test (RMSE): 1539.5978392788581\n",
      "LightGBM - Coeficiente de determinación en test (R2): 0.8031377269454439\n",
      "LightGBM - Tiempo de entrenamiento: 2.4924 segundos\n",
      "Tiempo de predicción: 0.4015 segundos\n"
     ]
    }
   ],
   "source": [
    "# Optimal settings for LightGBM\n",
    "params_2 = {\n",
    "    'objective': 'regression',\n",
    "    'metric': 'rmse',\n",
    "    'boosting_type': 'gbdt',\n",
    "    'learning_rate': 0.2,\n",
    "    'num_leaves': 20,\n",
    "    'verbose': -1\n",
    "}\n",
    "\n",
    "\n",
    "start_time = time.time()\n",
    "model = lgb.train(params_2, train_data, num_boost_round=100)\n",
    "\n",
    "pred_start_time= time.time()\n",
    "y_test_pred = model.predict(X_test)\n",
    "pred_time= time.time()- pred_start_time\n",
    "train_time = time.time() - start_time\n",
    "\n",
    "test_rmse = np.sqrt(root_mean_squared_error(y_test, y_test_pred))\n",
    "test_r2 = r2_score(y_test, y_test_pred)\n",
    "\n",
    "# Mostrar resultados\n",
    "print(f'LightGBM - RMSE: {test_rmse}')\n",
    "print(f'LightGBM - R2: {test_r2}')\n",
    "print(f'LightGBM - Train time: {train_time:.4f} segundos')\n",
    "print(f'Prediction time: {pred_time:.4f} segundos')\n",
    "\n"
   ]
  },
  {
   "cell_type": "markdown",
   "metadata": {},
   "source": [
    "For the final test, the RMSE obtained is 1539.60, which indicates the average error in predicting vehicle prices.\n",
    "The R2 is 0.8031, meaning that the model explains approximately 80.31% of the variability in car prices, suggesting that the model has good predictive capacity.\n",
    "The training time is 2.49 seconds, which is significantly faster than previously trained models."
   ]
  },
  {
   "cell_type": "markdown",
   "metadata": {},
   "source": [
    "# Conclusions"
   ]
  },
  {
   "cell_type": "markdown",
   "metadata": {},
   "source": [
    "After evaluating multiple models, LightGBM proved to be the best option due to its excellent balance between accuracy and efficiency. In the final test, it obtained a coefficient of determination of 0.8031 and an RMSE of 1539.60, indicating performance almost as good as the Random Forest, but with shorter times. <br>\n",
    "While the Random Forest took 314.32 seconds to train and 2.49 seconds to predict, LightGBM achieved a training time of only 2.49 seconds and a prediction time of 0.40 seconds, making it much more efficient for production and real-time applications. On the other hand, SGD, although fast, showed very poor performance with an R2 of just 0.4093 and an RMSE of 2666.91, which rules it out as a viable option. In conclusion, LightGBM is the most suitable model in this case, as it offers competitive accuracy with optimal training and prediction times, making it ideal for practical applications that require a balance between performance and speed."
   ]
  }
 ],
 "metadata": {
  "ExecuteTimeLog": [
   {
    "duration": 172,
    "start_time": "2025-02-08T01:44:17.552Z"
   },
   {
    "duration": 318,
    "start_time": "2025-02-08T01:44:28.211Z"
   },
   {
    "duration": 444,
    "start_time": "2025-02-08T01:44:29.820Z"
   },
   {
    "duration": 432,
    "start_time": "2025-02-08T01:45:11.891Z"
   },
   {
    "duration": 473,
    "start_time": "2025-02-08T01:45:16.340Z"
   },
   {
    "duration": 29,
    "start_time": "2025-02-08T01:51:23.247Z"
   },
   {
    "duration": 16,
    "start_time": "2025-02-08T01:52:55.453Z"
   },
   {
    "duration": 94,
    "start_time": "2025-02-08T01:53:53.799Z"
   },
   {
    "duration": 96,
    "start_time": "2025-02-08T01:54:08.459Z"
   },
   {
    "duration": 94,
    "start_time": "2025-02-08T01:54:14.832Z"
   },
   {
    "duration": 298,
    "start_time": "2025-02-11T23:23:48.000Z"
   },
   {
    "duration": 610,
    "start_time": "2025-02-11T23:23:48.300Z"
   },
   {
    "duration": 36,
    "start_time": "2025-02-11T23:23:48.911Z"
   },
   {
    "duration": 105,
    "start_time": "2025-02-11T23:23:48.949Z"
   },
   {
    "duration": 93,
    "start_time": "2025-02-11T23:24:03.751Z"
   },
   {
    "duration": 488,
    "start_time": "2025-02-11T23:24:09.321Z"
   },
   {
    "duration": 92,
    "start_time": "2025-02-11T23:24:23.731Z"
   },
   {
    "duration": 195,
    "start_time": "2025-02-11T23:26:30.465Z"
   },
   {
    "duration": 115,
    "start_time": "2025-02-11T23:51:34.241Z"
   },
   {
    "duration": 107,
    "start_time": "2025-02-11T23:51:38.825Z"
   },
   {
    "duration": 19,
    "start_time": "2025-02-12T00:14:14.606Z"
   },
   {
    "duration": 112,
    "start_time": "2025-02-12T00:14:16.073Z"
   },
   {
    "duration": 559,
    "start_time": "2025-02-12T00:15:30.618Z"
   },
   {
    "duration": 26,
    "start_time": "2025-02-12T00:15:40.010Z"
   },
   {
    "duration": 16,
    "start_time": "2025-02-12T00:16:35.798Z"
   },
   {
    "duration": 27,
    "start_time": "2025-02-12T00:17:03.434Z"
   },
   {
    "duration": 27,
    "start_time": "2025-02-12T00:18:00.872Z"
   },
   {
    "duration": 27,
    "start_time": "2025-02-12T00:19:30.322Z"
   },
   {
    "duration": 25,
    "start_time": "2025-02-12T00:27:47.105Z"
   },
   {
    "duration": 62,
    "start_time": "2025-02-12T00:28:08.890Z"
   },
   {
    "duration": 2,
    "start_time": "2025-02-12T00:29:33.642Z"
   },
   {
    "duration": 86,
    "start_time": "2025-02-12T00:29:36.547Z"
   },
   {
    "duration": 26,
    "start_time": "2025-02-12T00:31:14.523Z"
   },
   {
    "duration": 125,
    "start_time": "2025-02-12T00:31:17.846Z"
   },
   {
    "duration": 296,
    "start_time": "2025-02-12T00:31:53.867Z"
   },
   {
    "duration": 501,
    "start_time": "2025-02-12T00:31:54.166Z"
   },
   {
    "duration": 31,
    "start_time": "2025-02-12T00:31:54.669Z"
   },
   {
    "duration": 101,
    "start_time": "2025-02-12T00:31:54.702Z"
   },
   {
    "duration": 122,
    "start_time": "2025-02-12T00:31:54.807Z"
   },
   {
    "duration": 26,
    "start_time": "2025-02-12T00:31:54.931Z"
   },
   {
    "duration": 23,
    "start_time": "2025-02-12T00:31:54.959Z"
   },
   {
    "duration": 41,
    "start_time": "2025-02-12T00:31:54.984Z"
   },
   {
    "duration": 24,
    "start_time": "2025-02-12T00:31:55.027Z"
   },
   {
    "duration": 24,
    "start_time": "2025-02-12T00:31:55.053Z"
   },
   {
    "duration": 80,
    "start_time": "2025-02-12T00:31:55.079Z"
   },
   {
    "duration": 90,
    "start_time": "2025-02-12T00:31:55.161Z"
   },
   {
    "duration": 31,
    "start_time": "2025-02-12T00:31:55.252Z"
   },
   {
    "duration": 457,
    "start_time": "2025-02-12T00:32:01.000Z"
   },
   {
    "duration": 31,
    "start_time": "2025-02-12T00:32:06.779Z"
   },
   {
    "duration": 444,
    "start_time": "2025-02-12T00:33:30.339Z"
   },
   {
    "duration": 35,
    "start_time": "2025-02-12T00:33:49.972Z"
   },
   {
    "duration": 34,
    "start_time": "2025-02-12T00:35:10.431Z"
   },
   {
    "duration": 3,
    "start_time": "2025-02-12T00:36:50.925Z"
   },
   {
    "duration": 18,
    "start_time": "2025-02-12T00:37:33.219Z"
   },
   {
    "duration": 3,
    "start_time": "2025-02-12T00:37:42.293Z"
   },
   {
    "duration": 62,
    "start_time": "2025-02-12T00:38:23.225Z"
   },
   {
    "duration": 3,
    "start_time": "2025-02-12T00:38:37.193Z"
   },
   {
    "duration": 20,
    "start_time": "2025-02-12T00:38:45.210Z"
   },
   {
    "duration": 291,
    "start_time": "2025-02-12T00:38:50.621Z"
   },
   {
    "duration": 499,
    "start_time": "2025-02-12T00:38:50.914Z"
   },
   {
    "duration": 38,
    "start_time": "2025-02-12T00:38:51.416Z"
   },
   {
    "duration": 99,
    "start_time": "2025-02-12T00:38:51.457Z"
   },
   {
    "duration": 118,
    "start_time": "2025-02-12T00:38:51.558Z"
   },
   {
    "duration": 24,
    "start_time": "2025-02-12T00:38:51.678Z"
   },
   {
    "duration": 40,
    "start_time": "2025-02-12T00:38:51.704Z"
   },
   {
    "duration": 25,
    "start_time": "2025-02-12T00:38:51.746Z"
   },
   {
    "duration": 25,
    "start_time": "2025-02-12T00:38:51.772Z"
   },
   {
    "duration": 36,
    "start_time": "2025-02-12T00:38:51.800Z"
   },
   {
    "duration": 77,
    "start_time": "2025-02-12T00:38:51.837Z"
   },
   {
    "duration": 105,
    "start_time": "2025-02-12T00:38:51.923Z"
   },
   {
    "duration": 3,
    "start_time": "2025-02-12T00:38:52.029Z"
   },
   {
    "duration": 27,
    "start_time": "2025-02-12T00:39:38.691Z"
   },
   {
    "duration": 2308,
    "start_time": "2025-02-12T00:56:53.711Z"
   },
   {
    "duration": 5,
    "start_time": "2025-02-12T00:57:26.231Z"
   },
   {
    "duration": 131,
    "start_time": "2025-02-12T00:57:53.370Z"
   },
   {
    "duration": 32,
    "start_time": "2025-02-12T01:00:53.864Z"
   },
   {
    "duration": 106,
    "start_time": "2025-02-12T01:01:05.152Z"
   },
   {
    "duration": 776,
    "start_time": "2025-02-12T01:35:06.486Z"
   },
   {
    "duration": 505,
    "start_time": "2025-02-12T01:35:07.264Z"
   },
   {
    "duration": 30,
    "start_time": "2025-02-12T01:35:07.770Z"
   },
   {
    "duration": 105,
    "start_time": "2025-02-12T01:35:07.802Z"
   },
   {
    "duration": 133,
    "start_time": "2025-02-12T01:35:07.909Z"
   },
   {
    "duration": 25,
    "start_time": "2025-02-12T01:35:08.044Z"
   },
   {
    "duration": 27,
    "start_time": "2025-02-12T01:35:08.072Z"
   },
   {
    "duration": 47,
    "start_time": "2025-02-12T01:35:08.100Z"
   },
   {
    "duration": 27,
    "start_time": "2025-02-12T01:35:08.149Z"
   },
   {
    "duration": 48,
    "start_time": "2025-02-12T01:35:08.178Z"
   },
   {
    "duration": 68,
    "start_time": "2025-02-12T01:35:08.230Z"
   },
   {
    "duration": 95,
    "start_time": "2025-02-12T01:35:08.300Z"
   },
   {
    "duration": 40,
    "start_time": "2025-02-12T01:35:08.396Z"
   },
   {
    "duration": 134,
    "start_time": "2025-02-12T01:35:08.439Z"
   },
   {
    "duration": 29,
    "start_time": "2025-02-12T01:35:08.575Z"
   },
   {
    "duration": 304,
    "start_time": "2025-02-12T01:37:18.689Z"
   },
   {
    "duration": 195,
    "start_time": "2025-02-12T02:02:39.567Z"
   },
   {
    "duration": 9,
    "start_time": "2025-02-12T02:06:47.784Z"
   },
   {
    "duration": 398,
    "start_time": "2025-02-12T02:08:28.795Z"
   },
   {
    "duration": 17,
    "start_time": "2025-02-12T02:08:44.494Z"
   },
   {
    "duration": 113,
    "start_time": "2025-02-12T02:11:27.246Z"
   },
   {
    "duration": 1009,
    "start_time": "2025-02-12T02:11:37.530Z"
   },
   {
    "duration": 534,
    "start_time": "2025-02-12T02:11:38.542Z"
   },
   {
    "duration": 31,
    "start_time": "2025-02-12T02:11:39.078Z"
   },
   {
    "duration": 101,
    "start_time": "2025-02-12T02:11:39.110Z"
   },
   {
    "duration": 120,
    "start_time": "2025-02-12T02:11:39.225Z"
   },
   {
    "duration": 25,
    "start_time": "2025-02-12T02:11:39.347Z"
   },
   {
    "duration": 25,
    "start_time": "2025-02-12T02:11:39.374Z"
   },
   {
    "duration": 47,
    "start_time": "2025-02-12T02:11:39.401Z"
   },
   {
    "duration": 25,
    "start_time": "2025-02-12T02:11:39.450Z"
   },
   {
    "duration": 25,
    "start_time": "2025-02-12T02:11:39.476Z"
   },
   {
    "duration": 82,
    "start_time": "2025-02-12T02:11:39.502Z"
   },
   {
    "duration": 93,
    "start_time": "2025-02-12T02:11:39.586Z"
   },
   {
    "duration": 27,
    "start_time": "2025-02-12T02:11:39.681Z"
   },
   {
    "duration": 135,
    "start_time": "2025-02-12T02:11:39.724Z"
   },
   {
    "duration": 29,
    "start_time": "2025-02-12T02:11:39.861Z"
   },
   {
    "duration": 348,
    "start_time": "2025-02-12T02:11:39.892Z"
   },
   {
    "duration": 18,
    "start_time": "2025-02-12T02:11:40.241Z"
   },
   {
    "duration": 284,
    "start_time": "2025-02-12T02:11:40.261Z"
   },
   {
    "duration": 109,
    "start_time": "2025-02-12T02:11:40.547Z"
   },
   {
    "duration": 70,
    "start_time": "2025-02-12T02:26:26.439Z"
   },
   {
    "duration": 222,
    "start_time": "2025-02-12T02:28:10.207Z"
   },
   {
    "duration": 720,
    "start_time": "2025-02-12T02:28:24.370Z"
   },
   {
    "duration": 74,
    "start_time": "2025-02-12T02:29:18.450Z"
   },
   {
    "duration": 94,
    "start_time": "2025-02-12T02:29:41.477Z"
   },
   {
    "duration": 612,
    "start_time": "2025-02-12T02:30:08.692Z"
   },
   {
    "duration": 1332,
    "start_time": "2025-02-12T02:30:39.668Z"
   },
   {
    "duration": 166,
    "start_time": "2025-02-12T02:31:29.617Z"
   },
   {
    "duration": 1009,
    "start_time": "2025-02-12T02:31:44.328Z"
   },
   {
    "duration": 499,
    "start_time": "2025-02-12T02:31:45.340Z"
   },
   {
    "duration": 29,
    "start_time": "2025-02-12T02:31:45.841Z"
   },
   {
    "duration": 99,
    "start_time": "2025-02-12T02:31:45.872Z"
   },
   {
    "duration": 123,
    "start_time": "2025-02-12T02:31:45.974Z"
   },
   {
    "duration": 30,
    "start_time": "2025-02-12T02:31:46.099Z"
   },
   {
    "duration": 25,
    "start_time": "2025-02-12T02:31:46.130Z"
   },
   {
    "duration": 26,
    "start_time": "2025-02-12T02:31:46.157Z"
   },
   {
    "duration": 45,
    "start_time": "2025-02-12T02:31:46.184Z"
   },
   {
    "duration": 24,
    "start_time": "2025-02-12T02:31:46.231Z"
   },
   {
    "duration": 75,
    "start_time": "2025-02-12T02:31:46.256Z"
   },
   {
    "duration": 95,
    "start_time": "2025-02-12T02:31:46.333Z"
   },
   {
    "duration": 31,
    "start_time": "2025-02-12T02:31:46.430Z"
   },
   {
    "duration": 144,
    "start_time": "2025-02-12T02:31:46.464Z"
   },
   {
    "duration": 36,
    "start_time": "2025-02-12T02:31:46.610Z"
   },
   {
    "duration": 302,
    "start_time": "2025-02-12T02:31:46.647Z"
   },
   {
    "duration": 17,
    "start_time": "2025-02-12T02:31:46.951Z"
   },
   {
    "duration": 296,
    "start_time": "2025-02-12T02:31:46.970Z"
   },
   {
    "duration": 108,
    "start_time": "2025-02-12T02:31:47.268Z"
   },
   {
    "duration": 636,
    "start_time": "2025-02-12T02:31:47.378Z"
   },
   {
    "duration": 9633,
    "start_time": "2025-02-12T02:31:48.016Z"
   },
   {
    "duration": 633,
    "start_time": "2025-02-12T02:31:57.725Z"
   },
   {
    "duration": 10402,
    "start_time": "2025-02-12T02:32:13.928Z"
   },
   {
    "duration": 10347,
    "start_time": "2025-02-12T02:32:26.496Z"
   },
   {
    "duration": 3,
    "start_time": "2025-02-12T02:32:56.104Z"
   },
   {
    "duration": 9531,
    "start_time": "2025-02-12T02:33:00.121Z"
   },
   {
    "duration": 3,
    "start_time": "2025-02-12T02:51:47.655Z"
   },
   {
    "duration": 3,
    "start_time": "2025-02-12T02:54:54.159Z"
   },
   {
    "duration": 21,
    "start_time": "2025-02-12T03:04:58.478Z"
   },
   {
    "duration": 2692,
    "start_time": "2025-02-12T23:57:10.893Z"
   },
   {
    "duration": 559,
    "start_time": "2025-02-12T23:57:13.587Z"
   },
   {
    "duration": 31,
    "start_time": "2025-02-12T23:57:14.148Z"
   },
   {
    "duration": 98,
    "start_time": "2025-02-12T23:57:14.181Z"
   },
   {
    "duration": 120,
    "start_time": "2025-02-12T23:57:14.281Z"
   },
   {
    "duration": 41,
    "start_time": "2025-02-12T23:57:14.402Z"
   },
   {
    "duration": 26,
    "start_time": "2025-02-12T23:57:14.445Z"
   },
   {
    "duration": 29,
    "start_time": "2025-02-12T23:57:14.473Z"
   },
   {
    "duration": 41,
    "start_time": "2025-02-12T23:57:14.503Z"
   },
   {
    "duration": 25,
    "start_time": "2025-02-12T23:57:14.547Z"
   },
   {
    "duration": 80,
    "start_time": "2025-02-12T23:57:14.574Z"
   },
   {
    "duration": 94,
    "start_time": "2025-02-12T23:57:14.656Z"
   },
   {
    "duration": 73,
    "start_time": "2025-02-12T23:57:14.753Z"
   },
   {
    "duration": 148,
    "start_time": "2025-02-12T23:57:14.827Z"
   },
   {
    "duration": 31,
    "start_time": "2025-02-12T23:57:14.977Z"
   },
   {
    "duration": 361,
    "start_time": "2025-02-12T23:57:15.010Z"
   },
   {
    "duration": 18,
    "start_time": "2025-02-12T23:57:15.373Z"
   },
   {
    "duration": 305,
    "start_time": "2025-02-12T23:57:15.392Z"
   },
   {
    "duration": 108,
    "start_time": "2025-02-12T23:57:15.698Z"
   },
   {
    "duration": 591,
    "start_time": "2025-02-12T23:57:15.808Z"
   },
   {
    "duration": 9645,
    "start_time": "2025-02-12T23:57:16.401Z"
   },
   {
    "duration": 311,
    "start_time": "2025-02-12T23:57:26.048Z"
   },
   {
    "duration": 83,
    "start_time": "2025-02-12T23:58:06.899Z"
   },
   {
    "duration": 63,
    "start_time": "2025-02-13T00:06:14.159Z"
   },
   {
    "duration": 18,
    "start_time": "2025-02-13T00:06:55.621Z"
   },
   {
    "duration": 8,
    "start_time": "2025-02-13T00:38:00.499Z"
   },
   {
    "duration": 5,
    "start_time": "2025-02-13T00:38:07.257Z"
   },
   {
    "duration": 307,
    "start_time": "2025-02-13T00:42:04.227Z"
   },
   {
    "duration": 17,
    "start_time": "2025-02-13T00:43:09.674Z"
   },
   {
    "duration": 3,
    "start_time": "2025-02-13T00:43:43.886Z"
   },
   {
    "duration": 33107,
    "start_time": "2025-02-13T00:44:21.246Z"
   },
   {
    "duration": 33126,
    "start_time": "2025-02-13T00:49:20.540Z"
   },
   {
    "duration": 26,
    "start_time": "2025-02-13T00:56:48.762Z"
   },
   {
    "duration": 2673,
    "start_time": "2025-02-13T02:02:13.427Z"
   },
   {
    "duration": 586,
    "start_time": "2025-02-13T02:02:16.103Z"
   },
   {
    "duration": 30,
    "start_time": "2025-02-13T02:02:16.692Z"
   },
   {
    "duration": 111,
    "start_time": "2025-02-13T02:02:16.724Z"
   },
   {
    "duration": 121,
    "start_time": "2025-02-13T02:02:16.837Z"
   },
   {
    "duration": 36,
    "start_time": "2025-02-13T02:02:16.959Z"
   },
   {
    "duration": 24,
    "start_time": "2025-02-13T02:02:16.997Z"
   },
   {
    "duration": 24,
    "start_time": "2025-02-13T02:02:17.023Z"
   },
   {
    "duration": 43,
    "start_time": "2025-02-13T02:02:17.049Z"
   },
   {
    "duration": 24,
    "start_time": "2025-02-13T02:02:17.094Z"
   },
   {
    "duration": 85,
    "start_time": "2025-02-13T02:02:17.120Z"
   },
   {
    "duration": 91,
    "start_time": "2025-02-13T02:02:17.207Z"
   },
   {
    "duration": 28,
    "start_time": "2025-02-13T02:02:17.300Z"
   },
   {
    "duration": 146,
    "start_time": "2025-02-13T02:02:17.331Z"
   },
   {
    "duration": 30,
    "start_time": "2025-02-13T02:02:17.479Z"
   },
   {
    "duration": 328,
    "start_time": "2025-02-13T02:02:17.511Z"
   },
   {
    "duration": 17,
    "start_time": "2025-02-13T02:02:17.841Z"
   },
   {
    "duration": 295,
    "start_time": "2025-02-13T02:02:17.860Z"
   },
   {
    "duration": 109,
    "start_time": "2025-02-13T02:02:18.156Z"
   },
   {
    "duration": 613,
    "start_time": "2025-02-13T02:02:18.267Z"
   },
   {
    "duration": 9893,
    "start_time": "2025-02-13T02:02:18.882Z"
   },
   {
    "duration": 9,
    "start_time": "2025-02-13T02:02:28.779Z"
   },
   {
    "duration": 31779,
    "start_time": "2025-02-13T02:02:28.791Z"
   },
   {
    "duration": 4951,
    "start_time": "2025-02-13T02:03:07.441Z"
   },
   {
    "duration": 4894,
    "start_time": "2025-02-13T02:03:25.486Z"
   },
   {
    "duration": 2692,
    "start_time": "2025-02-14T00:26:34.259Z"
   },
   {
    "duration": 546,
    "start_time": "2025-02-14T00:26:36.953Z"
   },
   {
    "duration": 29,
    "start_time": "2025-02-14T00:26:37.500Z"
   },
   {
    "duration": 93,
    "start_time": "2025-02-14T00:26:37.530Z"
   },
   {
    "duration": 125,
    "start_time": "2025-02-14T00:26:37.625Z"
   },
   {
    "duration": 35,
    "start_time": "2025-02-14T00:26:37.752Z"
   },
   {
    "duration": 24,
    "start_time": "2025-02-14T00:26:37.789Z"
   },
   {
    "duration": 26,
    "start_time": "2025-02-14T00:26:37.815Z"
   },
   {
    "duration": 46,
    "start_time": "2025-02-14T00:26:37.843Z"
   },
   {
    "duration": 24,
    "start_time": "2025-02-14T00:26:37.892Z"
   },
   {
    "duration": 80,
    "start_time": "2025-02-14T00:26:37.918Z"
   },
   {
    "duration": 90,
    "start_time": "2025-02-14T00:26:38.000Z"
   },
   {
    "duration": 27,
    "start_time": "2025-02-14T00:26:38.092Z"
   },
   {
    "duration": 150,
    "start_time": "2025-02-14T00:26:38.124Z"
   },
   {
    "duration": 34,
    "start_time": "2025-02-14T00:26:38.275Z"
   },
   {
    "duration": 309,
    "start_time": "2025-02-14T00:26:38.311Z"
   },
   {
    "duration": 17,
    "start_time": "2025-02-14T00:26:38.622Z"
   },
   {
    "duration": 286,
    "start_time": "2025-02-14T00:26:38.641Z"
   },
   {
    "duration": 119,
    "start_time": "2025-02-14T00:26:38.929Z"
   },
   {
    "duration": 590,
    "start_time": "2025-02-14T00:26:39.050Z"
   },
   {
    "duration": 9566,
    "start_time": "2025-02-14T00:26:39.642Z"
   },
   {
    "duration": 77,
    "start_time": "2025-02-14T00:26:49.210Z"
   },
   {
    "duration": 31194,
    "start_time": "2025-02-14T00:26:49.293Z"
   },
   {
    "duration": 5019,
    "start_time": "2025-02-14T00:27:20.489Z"
   },
   {
    "duration": 978,
    "start_time": "2025-02-14T00:28:15.280Z"
   },
   {
    "duration": 1067,
    "start_time": "2025-02-14T00:28:27.916Z"
   },
   {
    "duration": 500,
    "start_time": "2025-02-14T00:28:28.986Z"
   },
   {
    "duration": 29,
    "start_time": "2025-02-14T00:28:29.488Z"
   },
   {
    "duration": 101,
    "start_time": "2025-02-14T00:28:29.519Z"
   },
   {
    "duration": 126,
    "start_time": "2025-02-14T00:28:29.623Z"
   },
   {
    "duration": 36,
    "start_time": "2025-02-14T00:28:29.751Z"
   },
   {
    "duration": 25,
    "start_time": "2025-02-14T00:28:29.789Z"
   },
   {
    "duration": 27,
    "start_time": "2025-02-14T00:28:29.816Z"
   },
   {
    "duration": 48,
    "start_time": "2025-02-14T00:28:29.844Z"
   },
   {
    "duration": 24,
    "start_time": "2025-02-14T00:28:29.894Z"
   },
   {
    "duration": 81,
    "start_time": "2025-02-14T00:28:29.920Z"
   },
   {
    "duration": 96,
    "start_time": "2025-02-14T00:28:30.003Z"
   },
   {
    "duration": 27,
    "start_time": "2025-02-14T00:28:30.101Z"
   },
   {
    "duration": 146,
    "start_time": "2025-02-14T00:28:30.132Z"
   },
   {
    "duration": 33,
    "start_time": "2025-02-14T00:28:30.280Z"
   },
   {
    "duration": 307,
    "start_time": "2025-02-14T00:28:30.315Z"
   },
   {
    "duration": 18,
    "start_time": "2025-02-14T00:28:30.624Z"
   },
   {
    "duration": 301,
    "start_time": "2025-02-14T00:28:30.644Z"
   },
   {
    "duration": 111,
    "start_time": "2025-02-14T00:28:30.946Z"
   },
   {
    "duration": 634,
    "start_time": "2025-02-14T00:28:31.058Z"
   },
   {
    "duration": 10115,
    "start_time": "2025-02-14T00:28:31.694Z"
   },
   {
    "duration": 78,
    "start_time": "2025-02-14T00:28:41.811Z"
   },
   {
    "duration": 31710,
    "start_time": "2025-02-14T00:28:41.891Z"
   },
   {
    "duration": 0,
    "start_time": "2025-02-14T00:29:13.604Z"
   },
   {
    "duration": 0,
    "start_time": "2025-02-14T00:29:13.606Z"
   },
   {
    "duration": 977,
    "start_time": "2025-02-14T00:29:41.124Z"
   },
   {
    "duration": 485,
    "start_time": "2025-02-14T00:29:42.104Z"
   },
   {
    "duration": 29,
    "start_time": "2025-02-14T00:29:42.592Z"
   },
   {
    "duration": 99,
    "start_time": "2025-02-14T00:29:42.623Z"
   },
   {
    "duration": 124,
    "start_time": "2025-02-14T00:29:42.724Z"
   },
   {
    "duration": 26,
    "start_time": "2025-02-14T00:29:42.850Z"
   },
   {
    "duration": 34,
    "start_time": "2025-02-14T00:29:42.877Z"
   },
   {
    "duration": 24,
    "start_time": "2025-02-14T00:29:42.913Z"
   },
   {
    "duration": 25,
    "start_time": "2025-02-14T00:29:42.939Z"
   },
   {
    "duration": 24,
    "start_time": "2025-02-14T00:29:42.987Z"
   },
   {
    "duration": 72,
    "start_time": "2025-02-14T00:29:43.014Z"
   },
   {
    "duration": 114,
    "start_time": "2025-02-14T00:29:43.088Z"
   },
   {
    "duration": 28,
    "start_time": "2025-02-14T00:29:43.204Z"
   },
   {
    "duration": 154,
    "start_time": "2025-02-14T00:29:43.236Z"
   },
   {
    "duration": 29,
    "start_time": "2025-02-14T00:29:43.393Z"
   },
   {
    "duration": 312,
    "start_time": "2025-02-14T00:29:43.424Z"
   },
   {
    "duration": 18,
    "start_time": "2025-02-14T00:29:43.738Z"
   },
   {
    "duration": 306,
    "start_time": "2025-02-14T00:29:43.758Z"
   },
   {
    "duration": 148,
    "start_time": "2025-02-14T00:29:44.066Z"
   },
   {
    "duration": 590,
    "start_time": "2025-02-14T00:29:44.218Z"
   },
   {
    "duration": 9976,
    "start_time": "2025-02-14T00:29:44.810Z"
   },
   {
    "duration": 8,
    "start_time": "2025-02-14T00:29:54.792Z"
   },
   {
    "duration": 33194,
    "start_time": "2025-02-14T00:29:54.805Z"
   },
   {
    "duration": 5091,
    "start_time": "2025-02-14T00:30:28.004Z"
   },
   {
    "duration": 31798,
    "start_time": "2025-02-14T00:34:42.509Z"
   },
   {
    "duration": 31571,
    "start_time": "2025-02-14T00:37:46.626Z"
   },
   {
    "duration": 21,
    "start_time": "2025-02-14T00:40:12.715Z"
   },
   {
    "duration": 317329,
    "start_time": "2025-02-14T00:40:22.287Z"
   },
   {
    "duration": 9774,
    "start_time": "2025-02-14T00:48:57.533Z"
   },
   {
    "duration": 321609,
    "start_time": "2025-02-14T00:53:51.953Z"
   },
   {
    "duration": 239,
    "start_time": "2025-02-14T01:34:01.548Z"
   },
   {
    "duration": 22,
    "start_time": "2025-02-14T01:35:11.574Z"
   },
   {
    "duration": 13824,
    "start_time": "2025-02-14T01:35:16.427Z"
   },
   {
    "duration": 9255,
    "start_time": "2025-02-14T01:39:23.435Z"
   },
   {
    "duration": 4093,
    "start_time": "2025-02-14T01:54:53.510Z"
   },
   {
    "duration": 2499,
    "start_time": "2025-02-14T02:00:51.496Z"
   },
   {
    "duration": 1046,
    "start_time": "2025-02-14T19:33:33.944Z"
   },
   {
    "duration": 547,
    "start_time": "2025-02-14T19:33:34.992Z"
   },
   {
    "duration": 30,
    "start_time": "2025-02-14T19:33:35.542Z"
   },
   {
    "duration": 97,
    "start_time": "2025-02-14T19:33:35.574Z"
   },
   {
    "duration": 122,
    "start_time": "2025-02-14T19:33:35.674Z"
   },
   {
    "duration": 25,
    "start_time": "2025-02-14T19:33:35.798Z"
   },
   {
    "duration": 38,
    "start_time": "2025-02-14T19:33:35.825Z"
   },
   {
    "duration": 25,
    "start_time": "2025-02-14T19:33:35.864Z"
   },
   {
    "duration": 32,
    "start_time": "2025-02-14T19:33:35.891Z"
   },
   {
    "duration": 24,
    "start_time": "2025-02-14T19:33:35.944Z"
   },
   {
    "duration": 73,
    "start_time": "2025-02-14T19:33:35.970Z"
   },
   {
    "duration": 86,
    "start_time": "2025-02-14T19:33:36.044Z"
   },
   {
    "duration": 35,
    "start_time": "2025-02-14T19:33:36.131Z"
   },
   {
    "duration": 142,
    "start_time": "2025-02-14T19:33:36.170Z"
   },
   {
    "duration": 38,
    "start_time": "2025-02-14T19:33:36.313Z"
   },
   {
    "duration": 314,
    "start_time": "2025-02-14T19:33:36.353Z"
   },
   {
    "duration": 18,
    "start_time": "2025-02-14T19:33:36.669Z"
   },
   {
    "duration": 312,
    "start_time": "2025-02-14T19:33:36.689Z"
   },
   {
    "duration": 137,
    "start_time": "2025-02-14T19:33:37.005Z"
   },
   {
    "duration": 591,
    "start_time": "2025-02-14T19:33:37.144Z"
   },
   {
    "duration": 9908,
    "start_time": "2025-02-14T19:33:37.736Z"
   },
   {
    "duration": 324533,
    "start_time": "2025-02-14T19:33:47.645Z"
   },
   {
    "duration": 6,
    "start_time": "2025-02-14T19:39:12.179Z"
   },
   {
    "duration": 2730,
    "start_time": "2025-02-18T00:39:24.242Z"
   },
   {
    "duration": 555,
    "start_time": "2025-02-18T00:39:26.975Z"
   },
   {
    "duration": 33,
    "start_time": "2025-02-18T00:39:27.533Z"
   },
   {
    "duration": 100,
    "start_time": "2025-02-18T00:39:27.568Z"
   },
   {
    "duration": 123,
    "start_time": "2025-02-18T00:39:27.671Z"
   },
   {
    "duration": 27,
    "start_time": "2025-02-18T00:39:27.796Z"
   },
   {
    "duration": 38,
    "start_time": "2025-02-18T00:39:27.824Z"
   },
   {
    "duration": 25,
    "start_time": "2025-02-18T00:39:27.865Z"
   },
   {
    "duration": 25,
    "start_time": "2025-02-18T00:39:27.893Z"
   },
   {
    "duration": 40,
    "start_time": "2025-02-18T00:39:27.920Z"
   },
   {
    "duration": 63,
    "start_time": "2025-02-18T00:39:27.962Z"
   },
   {
    "duration": 99,
    "start_time": "2025-02-18T00:39:28.027Z"
   },
   {
    "duration": 39,
    "start_time": "2025-02-18T00:39:28.128Z"
   },
   {
    "duration": 178,
    "start_time": "2025-02-18T00:39:28.170Z"
   },
   {
    "duration": 32,
    "start_time": "2025-02-18T00:39:28.350Z"
   },
   {
    "duration": 330,
    "start_time": "2025-02-18T00:39:28.383Z"
   },
   {
    "duration": 28,
    "start_time": "2025-02-18T00:39:28.715Z"
   },
   {
    "duration": 288,
    "start_time": "2025-02-18T00:39:28.745Z"
   },
   {
    "duration": 139,
    "start_time": "2025-02-18T00:39:29.034Z"
   },
   {
    "duration": 645,
    "start_time": "2025-02-18T00:39:29.174Z"
   },
   {
    "duration": 9632,
    "start_time": "2025-02-18T00:39:29.821Z"
   },
   {
    "duration": 313144,
    "start_time": "2025-02-18T00:39:39.454Z"
   },
   {
    "duration": 5,
    "start_time": "2025-02-18T00:44:52.600Z"
   },
   {
    "duration": 32448,
    "start_time": "2025-02-18T00:44:52.607Z"
   },
   {
    "duration": 4999,
    "start_time": "2025-02-18T00:45:25.060Z"
   },
   {
    "duration": 9497,
    "start_time": "2025-02-18T00:45:30.061Z"
   },
   {
    "duration": 2684,
    "start_time": "2025-02-18T00:45:39.560Z"
   },
   {
    "duration": 33383,
    "start_time": "2025-02-18T00:49:56.775Z"
   },
   {
    "duration": 346016,
    "start_time": "2025-02-18T00:50:54.953Z"
   },
   {
    "duration": 5008,
    "start_time": "2025-02-18T00:56:45.959Z"
   },
   {
    "duration": 9645,
    "start_time": "2025-02-18T01:02:46.118Z"
   },
   {
    "duration": 9823,
    "start_time": "2025-02-18T01:07:49.644Z"
   },
   {
    "duration": 312813,
    "start_time": "2025-02-18T01:14:03.042Z"
   },
   {
    "duration": 34310,
    "start_time": "2025-02-18T01:19:15.858Z"
   },
   {
    "duration": 81893,
    "start_time": "2025-02-18T01:19:50.173Z"
   },
   {
    "duration": 9697,
    "start_time": "2025-02-18T01:21:12.068Z"
   },
   {
    "duration": 2596,
    "start_time": "2025-02-18T01:21:21.767Z"
   },
   {
    "duration": 1047,
    "start_time": "2025-02-18T01:22:58.914Z"
   },
   {
    "duration": 504,
    "start_time": "2025-02-18T01:22:59.964Z"
   },
   {
    "duration": 39,
    "start_time": "2025-02-18T01:23:00.470Z"
   },
   {
    "duration": 102,
    "start_time": "2025-02-18T01:23:00.511Z"
   },
   {
    "duration": 140,
    "start_time": "2025-02-18T01:23:00.616Z"
   },
   {
    "duration": 25,
    "start_time": "2025-02-18T01:23:00.759Z"
   },
   {
    "duration": 25,
    "start_time": "2025-02-18T01:23:00.786Z"
   },
   {
    "duration": 44,
    "start_time": "2025-02-18T01:23:00.813Z"
   },
   {
    "duration": 25,
    "start_time": "2025-02-18T01:23:00.859Z"
   },
   {
    "duration": 24,
    "start_time": "2025-02-18T01:23:00.885Z"
   },
   {
    "duration": 86,
    "start_time": "2025-02-18T01:23:00.910Z"
   },
   {
    "duration": 95,
    "start_time": "2025-02-18T01:23:00.998Z"
   },
   {
    "duration": 31,
    "start_time": "2025-02-18T01:23:01.094Z"
   },
   {
    "duration": 133,
    "start_time": "2025-02-18T01:23:01.145Z"
   },
   {
    "duration": 28,
    "start_time": "2025-02-18T01:23:01.280Z"
   },
   {
    "duration": 347,
    "start_time": "2025-02-18T01:23:01.310Z"
   },
   {
    "duration": 20,
    "start_time": "2025-02-18T01:23:01.659Z"
   },
   {
    "duration": 318,
    "start_time": "2025-02-18T01:23:01.681Z"
   },
   {
    "duration": 144,
    "start_time": "2025-02-18T01:23:02.001Z"
   },
   {
    "duration": 613,
    "start_time": "2025-02-18T01:23:02.147Z"
   },
   {
    "duration": 9706,
    "start_time": "2025-02-18T01:23:02.761Z"
   },
   {
    "duration": 314321,
    "start_time": "2025-02-18T01:23:12.469Z"
   },
   {
    "duration": 6,
    "start_time": "2025-02-18T01:28:26.791Z"
   },
   {
    "duration": 33266,
    "start_time": "2025-02-18T01:28:26.799Z"
   },
   {
    "duration": 5014,
    "start_time": "2025-02-18T01:29:00.146Z"
   },
   {
    "duration": 9794,
    "start_time": "2025-02-18T01:29:05.161Z"
   },
   {
    "duration": 2498,
    "start_time": "2025-02-18T01:29:14.958Z"
   }
  ],
  "kernelspec": {
   "display_name": "base",
   "language": "python",
   "name": "python3"
  },
  "language_info": {
   "codemirror_mode": {
    "name": "ipython",
    "version": 3
   },
   "file_extension": ".py",
   "mimetype": "text/x-python",
   "name": "python",
   "nbconvert_exporter": "python",
   "pygments_lexer": "ipython3",
   "version": "3.12.4"
  },
  "toc": {
   "base_numbering": 1,
   "nav_menu": {},
   "number_sections": true,
   "sideBar": true,
   "skip_h1_title": true,
   "title_cell": "Table of Contents",
   "title_sidebar": "Contents",
   "toc_cell": false,
   "toc_position": {},
   "toc_section_display": true,
   "toc_window_display": false
  }
 },
 "nbformat": 4,
 "nbformat_minor": 2
}
